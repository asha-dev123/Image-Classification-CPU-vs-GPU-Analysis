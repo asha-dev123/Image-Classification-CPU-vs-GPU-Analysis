{
 "cells": [
  {
   "cell_type": "markdown",
   "id": "6d5fc990",
   "metadata": {},
   "source": [
    "# 🚀 GPU vs CPU Benchmarking for Insect Classification\n",
    "This notebook compares training performance (speed and accuracy) of a fine-tuned MobileNetV3Large model on **GPU vs CPU** using TensorFlow."
   ]
  },
  {
   "cell_type": "code",
   "execution_count": null,
   "id": "8153b031",
   "metadata": {},
   "outputs": [],
   "source": [
    "import tensorflow as tf\n",
    "import time\n",
    "from tensorflow.keras.applications import MobileNetV3Large\n",
    "from tensorflow.keras import layers, models\n",
    "from tensorflow.keras.preprocessing.image import ImageDataGenerator\n",
    "from tensorflow.keras.callbacks import EarlyStopping\n"
   ]
  },
  {
   "cell_type": "code",
   "execution_count": null,
   "id": "054835e9",
   "metadata": {},
   "outputs": [],
   "source": [
    "# Setup directories (update paths if needed)\n",
    "train_path = 'dataset/train'\n",
    "val_path = 'dataset/validation'\n",
    "\n",
    "# Image generators\n",
    "train_datagen = ImageDataGenerator(rescale=1./255)\n",
    "val_datagen = ImageDataGenerator(rescale=1./255)\n",
    "\n",
    "train_gen = train_datagen.flow_from_directory(train_path, target_size=(224, 224),\n",
    "                                              batch_size=32, class_mode='categorical')\n",
    "val_gen = val_datagen.flow_from_directory(val_path, target_size=(224, 224),\n",
    "                                          batch_size=32, class_mode='categorical')\n"
   ]
  },
  {
   "cell_type": "code",
   "execution_count": null,
   "id": "cd1a2547",
   "metadata": {},
   "outputs": [],
   "source": [
    "def create_model(num_classes):\n",
    "    base_model = MobileNetV3Large(input_shape=(224, 224, 3), include_top=False, weights='imagenet', pooling='avg')\n",
    "    base_model.trainable = False\n",
    "    model = models.Sequential([\n",
    "        base_model,\n",
    "        layers.Dense(256, activation='relu'),\n",
    "        layers.Dropout(0.2),\n",
    "        layers.Dense(256, activation='relu'),\n",
    "        layers.Dropout(0.2),\n",
    "        layers.Dense(num_classes, activation='softmax')\n",
    "    ])\n",
    "    model.compile(optimizer='adam', loss='categorical_crossentropy', metrics=['accuracy'])\n",
    "    return model\n"
   ]
  },
  {
   "cell_type": "code",
   "execution_count": null,
   "id": "a58c6d8b",
   "metadata": {},
   "outputs": [],
   "source": [
    "with tf.device('/CPU:0'):\n",
    "    print(\"Training on CPU...\")\n",
    "    model_cpu = create_model(train_gen.num_classes)\n",
    "    start_time = time.time()\n",
    "    history_cpu = model_cpu.fit(train_gen, validation_data=val_gen, epochs=5, callbacks=[EarlyStopping(patience=3)])\n",
    "    cpu_time = time.time() - start_time\n",
    "    print(f\"CPU training time: {cpu_time:.2f} seconds\")\n"
   ]
  },
  {
   "cell_type": "code",
   "execution_count": null,
   "id": "18a79e6f",
   "metadata": {},
   "outputs": [],
   "source": [
    "if tf.config.list_physical_devices('GPU'):\n",
    "    with tf.device('/GPU:0'):\n",
    "        print(\"Training on GPU...\")\n",
    "        model_gpu = create_model(train_gen.num_classes)\n",
    "        start_time = time.time()\n",
    "        history_gpu = model_gpu.fit(train_gen, validation_data=val_gen, epochs=5, callbacks=[EarlyStopping(patience=3)])\n",
    "        gpu_time = time.time() - start_time\n",
    "        print(f\"GPU training time: {gpu_time:.2f} seconds\")\n",
    "else:\n",
    "    print(\"No GPU found. Please enable GPU runtime in Colab.\")\n"
   ]
  },
  {
   "cell_type": "code",
   "execution_count": null,
   "id": "a70c947c",
   "metadata": {},
   "outputs": [],
   "source": [
    "try:\n",
    "    print(f\"Summary:\\nCPU training time: {cpu_time:.2f} sec\\nGPU training time: {gpu_time:.2f} sec\")\n",
    "except:\n",
    "    print(\"Only CPU test was completed.\")\n"
   ]
  }
 ],
 "metadata": {},
 "nbformat": 4,
 "nbformat_minor": 5
}
