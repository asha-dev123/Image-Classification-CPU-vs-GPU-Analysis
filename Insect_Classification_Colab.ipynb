{
 "cells": [
  {
   "cell_type": "markdown",
   "id": "e0f7072e",
   "metadata": {},
   "source": [
    "# Insect Classification Using Fine-Tuned CNN\n",
    "This Colab notebook fine-tunes a pre-trained MobileNetV3Large model to classify insect species.\n",
    "- Includes data augmentation\n",
    "- Benchmarks CPU vs GPU performance\n",
    "- Evaluates validation accuracy and loss\n",
    "- Uses dataset from Kaggle"
   ]
  },
  {
   "cell_type": "code",
   "execution_count": null,
   "id": "30974b19",
   "metadata": {},
   "outputs": [],
   "source": [
    "# Install Kaggle API\n",
    "!pip install -q kaggle\n",
    "\n",
    "# Upload kaggle.json\n",
    "from google.colab import files\n",
    "files.upload()  # Upload kaggle.json here\n"
   ]
  },
  {
   "cell_type": "code",
   "execution_count": null,
   "id": "b2cdc220",
   "metadata": {},
   "outputs": [],
   "source": [
    "# Set up Kaggle API credentials\n",
    "!mkdir -p ~/.kaggle\n",
    "!cp kaggle.json ~/.kaggle/\n",
    "!chmod 600 ~/.kaggle/kaggle.json\n",
    "\n",
    "# Download insect dataset\n",
    "!kaggle datasets download -d florianblume/insect-images-classification\n",
    "!unzip -q insect-images-classification.zip -d dataset\n"
   ]
  },
  {
   "cell_type": "code",
   "execution_count": null,
   "id": "4eca01a9",
   "metadata": {},
   "outputs": [],
   "source": [
    "import tensorflow as tf\n",
    "from tensorflow.keras.preprocessing.image import ImageDataGenerator\n",
    "\n",
    "train_path = 'dataset/train'\n",
    "val_path = 'dataset/validation'\n",
    "\n",
    "# Data augmentation and generators\n",
    "train_datagen = ImageDataGenerator(\n",
    "    rescale=1./255,\n",
    "    rotation_range=15,\n",
    "    width_shift_range=0.1,\n",
    "    height_shift_range=0.1,\n",
    "    shear_range=0.01,\n",
    "    zoom_range=[0.9, 1.25],\n",
    "    horizontal_flip=True,\n",
    "    fill_mode='reflect'\n",
    ")\n",
    "\n",
    "val_datagen = ImageDataGenerator(rescale=1./255)\n",
    "\n",
    "train_gen = train_datagen.flow_from_directory(train_path, target_size=(224, 224),\n",
    "                                              batch_size=32, class_mode='categorical')\n",
    "val_gen = val_datagen.flow_from_directory(val_path, target_size=(224, 224),\n",
    "                                          batch_size=32, class_mode='categorical')\n"
   ]
  },
  {
   "cell_type": "code",
   "execution_count": null,
   "id": "add81283",
   "metadata": {},
   "outputs": [],
   "source": [
    "from tensorflow.keras.applications import MobileNetV3Large\n",
    "from tensorflow.keras import layers, models\n",
    "from tensorflow.keras.callbacks import ModelCheckpoint, EarlyStopping\n",
    "\n",
    "# Load pre-trained model\n",
    "base_model = MobileNetV3Large(input_shape=(224,224,3), include_top=False,\n",
    "                              weights='imagenet', pooling='avg')\n",
    "base_model.trainable = False\n",
    "\n",
    "# Build model\n",
    "model = models.Sequential([\n",
    "    base_model,\n",
    "    layers.Dense(256, activation='relu'),\n",
    "    layers.Dropout(0.2),\n",
    "    layers.Dense(256, activation='relu'),\n",
    "    layers.Dropout(0.2),\n",
    "    layers.Dense(train_gen.num_classes, activation='softmax')\n",
    "])\n",
    "\n",
    "model.compile(optimizer='adam',\n",
    "              loss='categorical_crossentropy',\n",
    "              metrics=['accuracy'])\n",
    "\n",
    "# Callbacks\n",
    "checkpoint_cb = ModelCheckpoint('best_model.h5', save_best_only=True, monitor='val_accuracy')\n",
    "earlystop_cb = EarlyStopping(patience=5, restore_best_weights=True)\n",
    "\n",
    "# Train model\n",
    "history = model.fit(train_gen, validation_data=val_gen,\n",
    "                    epochs=10, callbacks=[checkpoint_cb, earlystop_cb])\n"
   ]
  },
  {
   "cell_type": "code",
   "execution_count": null,
   "id": "2563ad87",
   "metadata": {},
   "outputs": [],
   "source": [
    "# Evaluate model\n",
    "val_loss, val_acc = model.evaluate(val_gen)\n",
    "print(f\"Validation Accuracy: {val_acc * 100:.2f}%\")\n"
   ]
  },
  {
   "cell_type": "code",
   "execution_count": null,
   "id": "d2f5339f",
   "metadata": {},
   "outputs": [],
   "source": [
    "# Save the full model\n",
    "model.save('insect_cnn_model.h5')\n"
   ]
  }
 ],
 "metadata": {},
 "nbformat": 4,
 "nbformat_minor": 5
}
